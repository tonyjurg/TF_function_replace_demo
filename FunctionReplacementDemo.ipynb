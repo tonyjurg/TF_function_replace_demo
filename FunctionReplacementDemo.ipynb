{
 "cells": [
  {
   "cell_type": "markdown",
   "metadata": {
    "id": "ngo_5k9gnccX"
   },
   "source": [
    "# Function(ality) replacement exploration (TF generic)"
   ]
  },
  {
   "cell_type": "markdown",
   "metadata": {},
   "source": [
    "## Table of content (ToC)<a class=\"anchor\" id=\"TOC\"></a>\n",
    "* <a href=\"#bullet1\">1 - Introduction</a>\n",
    "* <a href=\"#bullet2\">2 - Some methods</a>\n",
    "   * <a href=\"#bullet2x1\">2.1 - Method 1: Replacement function</a>\n",
    "       * <a href=\"#bullet2x1x1\">2.1.1 - Demo code</a>\n",
    "       * <a href=\"#bullet2x1x2\">2.1.2 - Pro/cons</a>\n",
    "   * <a href=\"#bullet2x2\">2.2 - Method 2: Direct reasignment</a>\n",
    "       * <a href=\"#bullet2x2x1\">2.2.1 - Demo code</a>\n",
    "       * <a href=\"#bullet2x2x2\">2.2.2 - Pro/cons</a>\n",
    "   * <a href=\"#bullet2x3\">2.3 - Method 3: Decorators</a>\n",
    "       * <a href=\"#bullet2x3x1\">2.3.1 - Demo code</a>\n",
    "       * <a href=\"#bullet2x3x2\">2.3.2 - Pro/cons</a>\n",
    "   * <a href=\"#bullet2x4\">2.4 - Method 4: Monkey-patching</a>\n",
    "       * <a href=\"#bullet2x4x1\">2.4.1 - Demo code</a>\n",
    "       * <a href=\"#bullet2x4x2\">2.4.2 - Pro/cons</a>\n",
    "   * <a href=\"#bullet2x5\">2.5 - Method 5: Using types.MethodType</a>\n",
    "       * <a href=\"#bullet2x5x1\">2.5.1 - Demo code</a>\n",
    "       * <a href=\"#bullet2x5x2\">2.5.2 - Pro/cons</a>\n",
    "       \n",
    "\n",
    "       \n",
    "       \n",
    "* <a href=\"#bullet6\">6 - Notebook version details</a> "
   ]
  },
  {
   "cell_type": "markdown",
   "metadata": {},
   "source": [
    "# 1 - Introduction <a class=\"anchor\" id=\"bullet1\"></a>\n",
    "##### [Back to ToC](#TOC)"
   ]
  },
  {
   "cell_type": "markdown",
   "metadata": {
    "id": "vlKmJAtXnt6Z"
   },
   "source": [
    "In Python, being able to replace or tweak functions on the fly is a handy technique, which can be used for both debugging and for changing function behaviour. There are different ways to do this, each with its own strengths and limitations. This notebook is intended to examine them in order to be able to determine the most appropriate one to use in `app.py` for our multi syntax enabled Text-Farbic dataset."
   ]
  },
  {
   "cell_type": "markdown",
   "metadata": {},
   "source": [
    "# 2 - Some methods <a class=\"anchor\" id=\"bullet2\"></a>\n",
    "##### [Back to ToC](#TOC)\n",
    "\n",
    "There are many ways to replace a specific function or feature of Text-Fabric. Each option has its own advantages and disadvantages. In this section, we’ll look at a few possible alternatives and briefly discuss the pros and cons of each one.  "
   ]
  },
  {
   "cell_type": "markdown",
   "metadata": {
    "id": "jGmjjeviqUTh"
   },
   "source": [
    "## 2.1 - Method 1: Replacement function <a class=\"anchor\" id=\"bullet2x1\"></a>"
   ]
  },
  {
   "cell_type": "markdown",
   "metadata": {},
   "source": [
    "### 2.1.1 - Demo code <a class=\"anchor\" id=\"bullet2x1x1\"></a>"
   ]
  },
  {
   "cell_type": "markdown",
   "metadata": {
    "id": "U8C0DPNJqijm"
   },
   "source": [
    "This method replaces an existing function with a new one while the program is running. It uses Python’s dynamic features to swap out the old function (`originalFunction1`) with a new one (`newFunction1`) by updating the reference in the function’s global scope. Some explanatory comments are added within the code, which is an actualy working code."
   ]
  },
  {
   "cell_type": "code",
   "execution_count": 1,
   "metadata": {
    "id": "LB5a5iwHm17j"
   },
   "outputs": [],
   "source": [
    "import types\n",
    "\n",
    "def originalFunction1():\n",
    "    \"\"\"\n",
    "    Original function that prints a message.\n",
    "    \"\"\"\n",
    "    print(\"This is the original function 1.\")\n",
    "\n",
    "def newFunction1():\n",
    "    \"\"\"\n",
    "    New function that replaces the original one.\n",
    "    \"\"\"\n",
    "    print(\"This is the new function 1.\")\n",
    "\n",
    "def replaceFunction1(target, replacement):\n",
    "    \"\"\"\n",
    "    Replace a function with another function dynamically.\n",
    "\n",
    "    Args:\n",
    "        target (function): The original function to be replaced.\n",
    "        replacement (function): The new function to use as replacement.\n",
    "\n",
    "    Returns:\n",
    "        None\n",
    "    \"\"\"\n",
    "    targetGlobals = target.__globals__\n",
    "    targetName = target.__name__\n",
    "    targetGlobals[targetName] = replacement"
   ]
  },
  {
   "cell_type": "markdown",
   "metadata": {
    "id": "K2gVYxjhn-nU"
   },
   "source": [
    "The following cell will demonstrate the function replacement:"
   ]
  },
  {
   "cell_type": "code",
   "execution_count": 2,
   "metadata": {
    "colab": {
     "base_uri": "https://localhost:8080/"
    },
    "id": "gIGuitCCn52n",
    "outputId": "e6ebca43-556b-476e-98b3-2c6722a7065b"
   },
   "outputs": [
    {
     "name": "stdout",
     "output_type": "stream",
     "text": [
      "\n",
      "Before replacement:\n",
      "This is the original function 1.\n",
      "\n",
      "Performing function replacement...\n",
      "\n",
      "After replacement:\n",
      "This is the new function 1.\n"
     ]
    }
   ],
   "source": [
    "if __name__ == \"__main__\":\n",
    "    print(\"\\nBefore replacement:\")\n",
    "    originalFunction1()\n",
    "\n",
    "    print(\"\\nPerforming function replacement...\")\n",
    "    replaceFunction1(originalFunction1, newFunction1)\n",
    "\n",
    "    print(\"\\nAfter replacement:\")\n",
    "    originalFunction1()"
   ]
  },
  {
   "cell_type": "code",
   "execution_count": 3,
   "metadata": {
    "colab": {
     "base_uri": "https://localhost:8080/"
    },
    "id": "GZfwtDIFwcIG",
    "outputId": "08a7cc37-350a-4132-f426-2c8cd3ce28d3"
   },
   "outputs": [
    {
     "name": "stdout",
     "output_type": "stream",
     "text": [
      "\n",
      "Before replacement:\n",
      "This is the new function 1.\n",
      "\n",
      "Performing function replacement...\n",
      "\n",
      "After replacement:\n",
      "This is the new function 1.\n"
     ]
    }
   ],
   "source": [
    "print(\"\\nBefore replacement:\")\n",
    "originalFunction1()\n",
    "\n",
    "print(\"\\nPerforming function replacement...\")\n",
    "replaceFunction1(originalFunction1, newFunction1)\n",
    "\n",
    "print(\"\\nAfter replacement:\")\n",
    "originalFunction1()"
   ]
  },
  {
   "cell_type": "markdown",
   "metadata": {},
   "source": [
    "### 2.1.2 - Pro/cons <a class=\"anchor\" id=\"bullet2x1x2\"></a>"
   ]
  },
  {
   "cell_type": "markdown",
   "metadata": {},
   "source": [
    "One of the positive points is that this method is very simple and direct as it can change the behaviour without touching/changing the original code. Since this allows for swapping functions at runtime, it is extremely handy to test or applying a quick fix to a third-party library.\n",
    "\n",
    "The biggest risk is that it can make the code harder to follow, especially if function replacement happens silently or (unintended) at multiple places. It could easily lead to hard to debug problems since one expects the original function still to be in place."
   ]
  },
  {
   "cell_type": "markdown",
   "metadata": {
    "id": "qAGGEwS1qp0V"
   },
   "source": [
    "## 2.2 - Method 2: Direct reasignment <a class=\"anchor\" id=\"bullet2x2\"></a>\n",
    "\n",
    "This method replaces the original function (`originalFunction2`) by directly assigning it to a new one (`newFunction2`). From that point on, any call to `originalFunction2()` will actually run `newFunction2()` instead."
   ]
  },
  {
   "cell_type": "markdown",
   "metadata": {
    "id": "zktvmpaoyugH"
   },
   "source": [
    "### 2.2.1 Demo code<a class=\"anchor\" id=\"bullet2x2x1\"></a>"
   ]
  },
  {
   "cell_type": "markdown",
   "metadata": {
    "id": "X9rv8v7vqvud"
   },
   "source": [
    "Setting up the demo is very simple. Let's first define the two functions."
   ]
  },
  {
   "cell_type": "code",
   "execution_count": 4,
   "metadata": {
    "id": "yLqqu5_aq8qy"
   },
   "outputs": [],
   "source": [
    "def originalFunction2():\n",
    "    print(\"This is the original function 2.\")\n",
    "\n",
    "def newFunction2():\n",
    "    print(\"This is the new function 2.\")"
   ]
  },
  {
   "cell_type": "markdown",
   "metadata": {
    "id": "jPoRQ9GOrLMC"
   },
   "source": [
    "Demonstrating the function replacement:\n",
    "\n"
   ]
  },
  {
   "cell_type": "code",
   "execution_count": 5,
   "metadata": {
    "colab": {
     "base_uri": "https://localhost:8080/"
    },
    "id": "rs2616OHrJNY",
    "outputId": "cc0b76ec-3afa-4dba-d904-908a7587c5ea"
   },
   "outputs": [
    {
     "name": "stdout",
     "output_type": "stream",
     "text": [
      "This is the original function 2.\n",
      "\n",
      "Performing function replacement...\n",
      "This is the new function 2.\n"
     ]
    }
   ],
   "source": [
    "# Call the function\n",
    "originalFunction2()\n",
    "\n",
    "print(\"\\nPerforming function replacement...\")\n",
    "originalFunction2 = newFunction2\n",
    "\n",
    "# Call the function again\n",
    "originalFunction2()"
   ]
  },
  {
   "cell_type": "markdown",
   "metadata": {},
   "source": [
    "### 2.2.2 - Pro/cons <a class=\"anchor\" id=\"bullet2x2x2\"></a>"
   ]
  },
  {
   "cell_type": "markdown",
   "metadata": {
    "id": "UcNXW5QiyY5W"
   },
   "source": [
    "One of the advantages is that this approach is simple and easy to understand. It’s a straightforward aproach in most situations and requiring no external libraries, so it likely works in any Python environment. If properly documented replacing the function is clear.\n",
    "\n",
    "There are also some downsides: as the change is global it will affecting all references to the original function, which can make debugging tricky (esp. when not properly documented). Furthermore this overwrites important metadata like __name__ and __doc__, potentially making (debug and documentation) tooling less effective."
   ]
  },
  {
   "cell_type": "markdown",
   "metadata": {
    "id": "x8dy4lSBsPzz"
   },
   "source": [
    "## 2.3 - Method 3: Decorators <a class=\"anchor\" id=\"bullet2x3\"></a>"
   ]
  },
  {
   "cell_type": "markdown",
   "metadata": {
    "id": "b4GzonCxsfh4"
   },
   "source": [
    "Decorators offer another way to replace or modify functions while your program is running. A decorator is a special kind of function that takes another function, adds something to it (or changes it), and then gives back a new version. Note: although the term decorator is unique for Python, the concept is also available in e.g. javaScript (higher-order functions).\n",
    "\n",
    "When we apply a decorator to replace a function, it works by wrapping the original function with a new one. This wrapper function controls what happens when the original function is called. It can add new behavior, change the result, or even completely ignore the original function. However, the nice thing is that the decorator can still keep information about the original function, like its name and documentation.\n",
    "\n"
   ]
  },
  {
   "cell_type": "markdown",
   "metadata": {},
   "source": [
    "### 2.3.1 - Demo code <a class=\"anchor\" id=\"bullet2x3x1\"></a>\n",
    "\n",
    "In this demo code the decorator (`replaceFunction3`) returns the wrapper() function. That means the original function gets replaced with this new wrapped version. "
   ]
  },
  {
   "cell_type": "code",
   "execution_count": 6,
   "metadata": {
    "id": "wZH_TBaKseMA"
   },
   "outputs": [],
   "source": [
    "# Define the original function\n",
    "def originalFunction3():\n",
    "    print(\"This is the original function.\")\n",
    "\n",
    "# Define a decorator for function replacement\n",
    "def replaceFunction3(func):\n",
    "    def wrapper():\n",
    "        print(\"This function is replaced.\")\n",
    "    return wrapper"
   ]
  },
  {
   "cell_type": "markdown",
   "metadata": {
    "id": "fTRCHG_Stzgx"
   },
   "source": [
    "Demonstrating the function replacement. In this the `@replaceFunction3` syntax passes the function `originalFunction3` as an argument to `replaceFunction3`."
   ]
  },
  {
   "cell_type": "code",
   "execution_count": 7,
   "metadata": {
    "colab": {
     "base_uri": "https://localhost:8080/"
    },
    "id": "iVp8MBlatoh9",
    "outputId": "6c4c90ac-bda4-413c-decf-5aefe7ae469f"
   },
   "outputs": [
    {
     "name": "stdout",
     "output_type": "stream",
     "text": [
      "This is the original function.\n",
      "\n",
      "Performing function replacement...\n",
      "This function is replaced.\n"
     ]
    }
   ],
   "source": [
    "# Call the function\n",
    "originalFunction3()\n",
    "\n",
    "print(\"\\nPerforming function replacement...\")\n",
    "\n",
    "@replaceFunction3\n",
    "def originalFunction3():\n",
    "    print(\"This is the original function.\")\n",
    "\n",
    "# Call the function again\n",
    "originalFunction3()  # Output: This function is replaced."
   ]
  },
  {
   "cell_type": "markdown",
   "metadata": {},
   "source": [
    "### 2.3.2 - pro/cons <a class=\"anchor\" id=\"bullet2x3x2\"></a>"
   ]
  },
  {
   "cell_type": "markdown",
   "metadata": {
    "id": "fmAYHQi-zJoi"
   },
   "source": [
    "As a positive, using a decorator to replace or modify a function can make the code more structured and easier to read (assuming the concept wrapper is understood). It also encourages consistent patterns and can be reused across multiple functions. With functools.wraps, we can even keep the original function’s name and docstring. \n",
    "\n",
    "On the downside, decorators can be a bit tricky for beginners to grasp. They also add extra code, which might feel like overkill for simple cases. And when something goes wrong, debugging can be harder because there's another layer to dig through."
   ]
  },
  {
   "cell_type": "markdown",
   "metadata": {
    "id": "ZhAEhV3-0Mei"
   },
   "source": [
    "## 2.4 - Method 4: Monkey-patching <a class=\"anchor\" id=\"bullet2x4\"></a>"
   ]
  },
  {
   "cell_type": "markdown",
   "metadata": {
    "id": "ZiBtNgxi0Utn"
   },
   "source": [
    "Monkey-patching involves modifying or extending a function or method in a module or class at runtime, without changing the original source code.\n",
    "It can be use to fix bugs, change behavior, or even add new features (either temporarily or for testing)."
   ]
  },
  {
   "cell_type": "markdown",
   "metadata": {},
   "source": [
    "### 2.4.1 - Demo code <a class=\"anchor\" id=\"bullet2x4x1\"></a>\n",
    "\n",
    "This demo code replaces the original `some_function` in `some_module` with the desired `new_function`. From now on, whenever `some_module.some_function()` is called, it will actually run `new_function()` instead"
   ]
  },
  {
   "cell_type": "raw",
   "metadata": {
    "id": "Bjulz_MN0Wmk"
   },
   "source": [
    "import some_module\n",
    "\n",
    "def new_function():\n",
    "    print(\"Replaced function\")\n",
    "\n",
    "some_module.some_function = new_function"
   ]
  },
  {
   "cell_type": "markdown",
   "metadata": {},
   "source": [
    "### 2.4.2 - pro/cons <a class=\"anchor\" id=\"bullet2x4x2\"></a>\n",
    "\n",
    "The nice thing is that this method can be aplied quick and easy. It allows to customize the behavior of an existing library without changing the original source code. It's powerful for debugging, extending functionality or tweaking output. \n",
    "\n",
    "However, like all the previously described dynamic replacements, this method can also easily lead to confusion. Since it makes the internal flow of the code less transparent and harder to debug, this needs to be clearly documented."
   ]
  },
  {
   "cell_type": "markdown",
   "metadata": {},
   "source": [
    "## 2.5 - Method 5: Using types.MethodType <a class=\"anchor\" id=\"bullet2x5\"></a>"
   ]
  },
  {
   "cell_type": "markdown",
   "metadata": {},
   "source": [
    "When working with classes in Python it is also possible to replace a method only on a specific instance. This can be done by using `types.MethodType`. This allows for binding a new function to that instance as if it were a normal method."
   ]
  },
  {
   "cell_type": "markdown",
   "metadata": {},
   "source": [
    "### 2.5.1 - Demo code <a class=\"anchor\" id=\"bullet2x5x1\"></a>\n",
    "\n",
    "In this functioning example, a class `MyClass` has a method `my_method` that just prints \"Original method.\" Next a new function `new_method` is defined and then attached to a single instance `obj` using `types.MethodType`. This replaces `my_method` only for that instance. Now, when `obj.my_method()` is called, it runs the new method instead. Other instances of the class are not affected and will still use the original method."
   ]
  },
  {
   "cell_type": "code",
   "execution_count": 9,
   "metadata": {},
   "outputs": [
    {
     "name": "stdout",
     "output_type": "stream",
     "text": [
      "New method.\n"
     ]
    }
   ],
   "source": [
    "import types\n",
    "\n",
    "class MyClass:\n",
    "    def my_method(self):\n",
    "        print(\"Original method.\")\n",
    "\n",
    "def new_method(self):\n",
    "    print(\"New method.\")\n",
    "\n",
    "# Create an instance\n",
    "obj = MyClass()\n",
    "\n",
    "# Replace the method\n",
    "obj.my_method = types.MethodType(new_method, obj)\n",
    "\n",
    "# Call the new method\n",
    "obj.my_method()  # Output: New method."
   ]
  },
  {
   "cell_type": "markdown",
   "metadata": {},
   "source": [
    "### 2.5.2 - pro/cons <a class=\"anchor\" id=\"bullet2x5x2\"></a>\n",
    "\n",
    "The biggest pro, especialy in the context of Text-Fabric, is that method changes the behavior for just one object without affecting the whole class. it preserves `self`: types.MethodType correctly binds the method to the instance, so `self` keeps working as expected. Like all of the examples in this notebook, it also does not require to change the original code (or class in this case).\n",
    "\n",
    "One drawback is that developers may expect that all methods on instances of a class to behave the same, whic might not be the case here (if both a tweaked TF dataset and a untweaked TF dataset is loaded). Furthermore this does require some addional imports (like types). Also this concept might not work for certain methods (possibly static or class methods?)."
   ]
  },
  {
   "cell_type": "markdown",
   "metadata": {},
   "source": [
    "# Used method for TF API behaviour modification"
   ]
  },
  {
   "cell_type": "markdown",
   "metadata": {},
   "source": [
    "Any of the above discussed methods do have their pro and cons that are largely similair. For the custom code that will be added to the TF datset a method replacement done at the instance level within a custom subclass of App from text-fabric. This is the essential part of the code:"
   ]
  },
  {
   "cell_type": "markdown",
   "metadata": {},
   "source": [
    "from tf.advanced.app import App\n",
    "from tf.advanced.display import displaySetup, displayReset\n",
    "import re\n",
    "\n",
    "class TfApp(App):\n",
    "\n",
    "\tdef __init__(self, *args, **kwargs):\n",
    "\t\tsuper().__init__(*args, **kwargs)\n",
    "\t\t# Repalce the original show and search method and insert our new ones using the name of the original method\n",
    "\t\timport types\n",
    "\t\tself.search = types.MethodType(custom_search, self)\n",
    "\t\tself.show = types.MethodType(custom_show, self)\n",
    "\t\tself.dm('Custom versions for search and show are loaded')\n",
    "\n"
   ]
  },
  {
   "cell_type": "markdown",
   "metadata": {},
   "source": [
    "In this a custom class TfApp is created which extends the default App. Inside the `__init__ method`, types.MethodType() is used to dynamically replace the instance methods `search` and `show` with custom versions (`custom_search` and `custom_show` defined in the rest of the file). These new functions are bound directly to the instance (self), effectively overriding the original methods for that object.\n",
    "\n",
    "The main reason for using thais method is that it is NOT a global function/method replacement, but bound to an instance. That implies that it allows running multiple instances of Text-Fabric at the same time without undesired interactions between the instances.  Also I believe it to be the most transparent method that can be documented clearly in the `app.py` file. \n",
    "\n",
    "The indepences of the instances is demonstrated in [this notebook](test_two_TF_datasets.ipynb)."
   ]
  },
  {
   "cell_type": "markdown",
   "metadata": {},
   "source": [
    "# 6 - Notebook version details<a class=\"anchor\" id=\"bullet6\"></a>\n",
    "##### [Back to ToC](#TOC)\n",
    "\n",
    "<div style=\"float: left;\">\n",
    "  <table>\n",
    "    <tr>\n",
    "      <td><strong>Author</strong></td>\n",
    "      <td>Tony Jurg</td>\n",
    "    </tr>\n",
    "    <tr>\n",
    "      <td><strong>Version</strong></td>\n",
    "      <td>1.1</td>\n",
    "    </tr>\n",
    "    <tr>\n",
    "      <td><strong>Date</strong></td>\n",
    "      <td>10 April 2025</td>\n",
    "    </tr>\n",
    "  </table>\n",
    "</div>"
   ]
  }
 ],
 "metadata": {
  "colab": {
   "provenance": []
  },
  "kernelspec": {
   "display_name": "Python 3 (ipykernel)",
   "language": "python",
   "name": "python3"
  },
  "language_info": {
   "codemirror_mode": {
    "name": "ipython",
    "version": 3
   },
   "file_extension": ".py",
   "mimetype": "text/x-python",
   "name": "python",
   "nbconvert_exporter": "python",
   "pygments_lexer": "ipython3",
   "version": "3.12.7"
  }
 },
 "nbformat": 4,
 "nbformat_minor": 4
}
